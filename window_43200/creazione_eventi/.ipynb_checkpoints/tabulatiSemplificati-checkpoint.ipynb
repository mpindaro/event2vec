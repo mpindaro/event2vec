{
 "cells": [
  {
   "cell_type": "code",
   "execution_count": 1,
   "metadata": {},
   "outputs": [],
   "source": [
    "import pandas as pd\n",
    "import re\n",
    "import os\n",
    "import csv\n",
    "import numpy as np"
   ]
  },
  {
   "cell_type": "code",
   "execution_count": 17,
   "metadata": {},
   "outputs": [],
   "source": [
    "phones = pd.read_csv(\"fixed_phones.csv\",  dtype = str)"
   ]
  },
  {
   "cell_type": "code",
   "execution_count": 3,
   "metadata": {},
   "outputs": [],
   "source": [
    "lista = os.listdir('extracted_data')"
   ]
  },
  {
   "cell_type": "code",
   "execution_count": 4,
   "metadata": {},
   "outputs": [],
   "source": [
    "with open('celle.csv', newline='') as f:\n",
    "    reader = csv.reader(f, delimiter='\\n')\n",
    "    celle_unflatted = list(reader)"
   ]
  },
  {
   "cell_type": "code",
   "execution_count": 5,
   "metadata": {},
   "outputs": [],
   "source": [
    "celle = [item for sublist in celle_unflatted for item in sublist]"
   ]
  },
  {
   "cell_type": "code",
   "execution_count": 6,
   "metadata": {},
   "outputs": [
    {
     "data": {
      "text/plain": [
       "'f8xx_wind_07.csv'"
      ]
     },
     "execution_count": 6,
     "metadata": {},
     "output_type": "execute_result"
    }
   ],
   "source": [
    "primocsv = lista[0]\n",
    "primocsv"
   ]
  },
  {
   "cell_type": "code",
   "execution_count": 13,
   "metadata": {},
   "outputs": [],
   "source": [
    "df = pd.read_csv(\"extracted_data/f8xx_wind_01.csv\", delimiter=\";\")"
   ]
  },
  {
   "cell_type": "code",
   "execution_count": 18,
   "metadata": {},
   "outputs": [
    {
     "data": {
      "text/html": [
       "<div>\n",
       "<style scoped>\n",
       "    .dataframe tbody tr th:only-of-type {\n",
       "        vertical-align: middle;\n",
       "    }\n",
       "\n",
       "    .dataframe tbody tr th {\n",
       "        vertical-align: top;\n",
       "    }\n",
       "\n",
       "    .dataframe thead th {\n",
       "        text-align: right;\n",
       "    }\n",
       "</style>\n",
       "<table border=\"1\" class=\"dataframe\">\n",
       "  <thead>\n",
       "    <tr style=\"text-align: right;\">\n",
       "      <th></th>\n",
       "      <th>telefono</th>\n",
       "      <th>is_intercettato</th>\n",
       "    </tr>\n",
       "  </thead>\n",
       "  <tbody>\n",
       "    <tr>\n",
       "      <th>0</th>\n",
       "      <td>+393479899812</td>\n",
       "      <td>N</td>\n",
       "    </tr>\n",
       "    <tr>\n",
       "      <th>1</th>\n",
       "      <td>+393493663356</td>\n",
       "      <td>S</td>\n",
       "    </tr>\n",
       "    <tr>\n",
       "      <th>2</th>\n",
       "      <td>+393245314269</td>\n",
       "      <td>N</td>\n",
       "    </tr>\n",
       "    <tr>\n",
       "      <th>3</th>\n",
       "      <td>+393280592192</td>\n",
       "      <td>N</td>\n",
       "    </tr>\n",
       "    <tr>\n",
       "      <th>4</th>\n",
       "      <td>+393467131193</td>\n",
       "      <td>N</td>\n",
       "    </tr>\n",
       "    <tr>\n",
       "      <th>...</th>\n",
       "      <td>...</td>\n",
       "      <td>...</td>\n",
       "    </tr>\n",
       "    <tr>\n",
       "      <th>52901</th>\n",
       "      <td>+393929708381</td>\n",
       "      <td>N</td>\n",
       "    </tr>\n",
       "    <tr>\n",
       "      <th>52902</th>\n",
       "      <td>+393938796758</td>\n",
       "      <td>N</td>\n",
       "    </tr>\n",
       "    <tr>\n",
       "      <th>52903</th>\n",
       "      <td>+393903282166120</td>\n",
       "      <td>N</td>\n",
       "    </tr>\n",
       "    <tr>\n",
       "      <th>52904</th>\n",
       "      <td>+393356231038</td>\n",
       "      <td>N</td>\n",
       "    </tr>\n",
       "    <tr>\n",
       "      <th>52905</th>\n",
       "      <td>+393938118426</td>\n",
       "      <td>N</td>\n",
       "    </tr>\n",
       "  </tbody>\n",
       "</table>\n",
       "<p>52906 rows × 2 columns</p>\n",
       "</div>"
      ],
      "text/plain": [
       "               telefono is_intercettato\n",
       "0         +393479899812               N\n",
       "1         +393493663356               S\n",
       "2         +393245314269               N\n",
       "3         +393280592192               N\n",
       "4         +393467131193               N\n",
       "...                 ...             ...\n",
       "52901     +393929708381               N\n",
       "52902     +393938796758               N\n",
       "52903  +393903282166120               N\n",
       "52904     +393356231038               N\n",
       "52905     +393938118426               N\n",
       "\n",
       "[52906 rows x 2 columns]"
      ]
     },
     "execution_count": 18,
     "metadata": {},
     "output_type": "execute_result"
    }
   ],
   "source": [
    "phones"
   ]
  },
  {
   "cell_type": "code",
   "execution_count": 19,
   "metadata": {},
   "outputs": [],
   "source": [
    "def getNumberAndFlag(number):\n",
    "    return (list(phones[phones['telefono']==number].values[0])[1], phones.index[phones['telefono'] == number].tolist()[0])"
   ]
  },
  {
   "cell_type": "code",
   "execution_count": 20,
   "metadata": {},
   "outputs": [],
   "source": [
    "def getCellaIndex(cella):\n",
    "    return celle.index(cella) if (cella in celle) else \"\""
   ]
  },
  {
   "cell_type": "code",
   "execution_count": 21,
   "metadata": {},
   "outputs": [
    {
     "data": {
      "text/plain": [
       "['S', 7514]"
      ]
     },
     "execution_count": 21,
     "metadata": {},
     "output_type": "execute_result"
    }
   ],
   "source": [
    "pippo = getNumberAndFlag(\"+393421224703\")\n",
    "list(pippo)"
   ]
  },
  {
   "cell_type": "code",
   "execution_count": 26,
   "metadata": {},
   "outputs": [
    {
     "data": {
      "text/plain": [
       "['N', 8952]"
      ]
     },
     "execution_count": 26,
     "metadata": {},
     "output_type": "execute_result"
    }
   ],
   "source": [
    "\n",
    "pippo = getNumberAndFlag(\"+393800218900\")\n",
    "list(pippo)"
   ]
  },
  {
   "cell_type": "code",
   "execution_count": 22,
   "metadata": {},
   "outputs": [
    {
     "data": {
      "text/plain": [
       "13"
      ]
     },
     "execution_count": 22,
     "metadata": {},
     "output_type": "execute_result"
    }
   ],
   "source": [
    "getCellaIndex('N/D STR. PROVINCIALE 61 MONZUNO')"
   ]
  },
  {
   "cell_type": "code",
   "execution_count": 27,
   "metadata": {},
   "outputs": [],
   "source": [
    "tabulati_ridotti = []\n",
    "for index, row in df.iterrows():\n",
    "    try:\n",
    "        if str(row[\"da_numero\"])[0:1] == \"+\":\n",
    "            search = getNumberAndFlag(\"+\" + str(row[\"da_numero\"][1:]).replace(\"+\", \"00\"))\n",
    "        else:\n",
    "            search = getNumberAndFlag(\"+\" + str(row[\"da_numero\"]).replace(\"+\", \"00\"))\n",
    "\n",
    "        da_numero = search[1]\n",
    "        da_numero_flag = search[0]\n",
    "        if str(row[\"a_numero\"])[0:1] == \"+\":\n",
    "            search = getNumberAndFlag(\"+\" + str(row[\"a_numero\"][1:]).replace(\"+\", \"00\"))\n",
    "        else:\n",
    "            search = getNumberAndFlag(\"+\" + str(row[\"a_numero\"]).replace(\"+\", \"00\"))\n",
    "        a_numero = search[1]\n",
    "        a_numero_flag = search[0]\n",
    "    except:\n",
    "        print(row[\"da_numero\"])\n",
    "        print(row[\"a_numero\"])\n",
    "    \n",
    "    mittende_cella_start = getCellaIndex(row[\"da_torre_cell_inizio\"]) if not str(row[\"da_torre_cell_inizio\"])==\"nan\" else \"\"\n",
    "    mittende_cella_end = getCellaIndex(row[\"da_torre_cell_fine\"]) if not str(row[\"da_torre_cell_fine\"])==\"nan\" else \"\"\n",
    "    destinatario_cella_start = getCellaIndex(row[\"a_torre_cell_inizio\"]) if not str(row[\"a_torre_cell_inizio\"])==\"nan\" else \"\"\n",
    "    destinatario_cella_end = getCellaIndex(row[\"a_torre_cell_fine\"]) if not str(row[\"a_torre_cell_fine\"])==\"nan\" else \"\"\n",
    "\n",
    "    tabulati_ridotti.append( (row[\"data_ora\"], row[\"durata\"], da_numero, da_numero_flag,mittende_cella_start, mittende_cella_end, a_numero, a_numero_flag, destinatario_cella_start, destinatario_cella_start))"
   ]
  },
  {
   "cell_type": "code",
   "execution_count": null,
   "metadata": {},
   "outputs": [],
   "source": [
    "getNumberAndFlag(\"+393358311578\")"
   ]
  },
  {
   "cell_type": "code",
   "execution_count": null,
   "metadata": {},
   "outputs": [],
   "source": [
    "str(np.nan)"
   ]
  },
  {
   "cell_type": "code",
   "execution_count": 28,
   "metadata": {},
   "outputs": [],
   "source": [
    "tabulati_ridotti_example = pd.DataFrame(tabulati_ridotti, columns = [\"timestamp\", \"durata\", \"mittente\", \"is_mittente_intercettato\", \"mittente_cella_start\", \"mittente_cella_end\", \"destinatario\", \"is_destinatario_intercettato\", \"destinatario_cella_start\", \"destinatario_cella_end\"])"
   ]
  },
  {
   "cell_type": "code",
   "execution_count": 29,
   "metadata": {},
   "outputs": [
    {
     "data": {
      "text/html": [
       "<div>\n",
       "<style scoped>\n",
       "    .dataframe tbody tr th:only-of-type {\n",
       "        vertical-align: middle;\n",
       "    }\n",
       "\n",
       "    .dataframe tbody tr th {\n",
       "        vertical-align: top;\n",
       "    }\n",
       "\n",
       "    .dataframe thead th {\n",
       "        text-align: right;\n",
       "    }\n",
       "</style>\n",
       "<table border=\"1\" class=\"dataframe\">\n",
       "  <thead>\n",
       "    <tr style=\"text-align: right;\">\n",
       "      <th></th>\n",
       "      <th>timestamp</th>\n",
       "      <th>durata</th>\n",
       "      <th>mittente</th>\n",
       "      <th>is_mittente_intercettato</th>\n",
       "      <th>mittente_cella_start</th>\n",
       "      <th>mittente_cella_end</th>\n",
       "      <th>destinatario</th>\n",
       "      <th>is_destinatario_intercettato</th>\n",
       "      <th>destinatario_cella_start</th>\n",
       "      <th>destinatario_cella_end</th>\n",
       "    </tr>\n",
       "  </thead>\n",
       "  <tbody>\n",
       "    <tr>\n",
       "      <th>0</th>\n",
       "      <td>2017-09-20 12:34:40</td>\n",
       "      <td>117</td>\n",
       "      <td>1765</td>\n",
       "      <td>S</td>\n",
       "      <td>10770</td>\n",
       "      <td>10770</td>\n",
       "      <td>1786</td>\n",
       "      <td>S</td>\n",
       "      <td></td>\n",
       "      <td></td>\n",
       "    </tr>\n",
       "    <tr>\n",
       "      <th>1</th>\n",
       "      <td>2017-09-20 12:34:40</td>\n",
       "      <td>116</td>\n",
       "      <td>1765</td>\n",
       "      <td>S</td>\n",
       "      <td></td>\n",
       "      <td></td>\n",
       "      <td>1786</td>\n",
       "      <td>S</td>\n",
       "      <td></td>\n",
       "      <td></td>\n",
       "    </tr>\n",
       "    <tr>\n",
       "      <th>2</th>\n",
       "      <td>2017-09-20 14:50:20</td>\n",
       "      <td>56</td>\n",
       "      <td>1765</td>\n",
       "      <td>S</td>\n",
       "      <td></td>\n",
       "      <td></td>\n",
       "      <td>8677</td>\n",
       "      <td>N</td>\n",
       "      <td></td>\n",
       "      <td></td>\n",
       "    </tr>\n",
       "    <tr>\n",
       "      <th>3</th>\n",
       "      <td>2017-09-20 14:50:20</td>\n",
       "      <td>57</td>\n",
       "      <td>1765</td>\n",
       "      <td>S</td>\n",
       "      <td>649</td>\n",
       "      <td>649</td>\n",
       "      <td>1776</td>\n",
       "      <td>N</td>\n",
       "      <td></td>\n",
       "      <td></td>\n",
       "    </tr>\n",
       "    <tr>\n",
       "      <th>4</th>\n",
       "      <td>2017-09-20 14:50:20</td>\n",
       "      <td>57</td>\n",
       "      <td>1765</td>\n",
       "      <td>S</td>\n",
       "      <td>649</td>\n",
       "      <td>649</td>\n",
       "      <td>1776</td>\n",
       "      <td>N</td>\n",
       "      <td></td>\n",
       "      <td></td>\n",
       "    </tr>\n",
       "    <tr>\n",
       "      <th>...</th>\n",
       "      <td>...</td>\n",
       "      <td>...</td>\n",
       "      <td>...</td>\n",
       "      <td>...</td>\n",
       "      <td>...</td>\n",
       "      <td>...</td>\n",
       "      <td>...</td>\n",
       "      <td>...</td>\n",
       "      <td>...</td>\n",
       "      <td>...</td>\n",
       "    </tr>\n",
       "    <tr>\n",
       "      <th>4995</th>\n",
       "      <td>2018-10-30 19:24:45</td>\n",
       "      <td>19</td>\n",
       "      <td>1765</td>\n",
       "      <td>S</td>\n",
       "      <td>7886</td>\n",
       "      <td>7886</td>\n",
       "      <td>1848</td>\n",
       "      <td>S</td>\n",
       "      <td></td>\n",
       "      <td></td>\n",
       "    </tr>\n",
       "    <tr>\n",
       "      <th>4996</th>\n",
       "      <td>2018-10-30 19:27:21</td>\n",
       "      <td>47</td>\n",
       "      <td>1848</td>\n",
       "      <td>S</td>\n",
       "      <td>7886</td>\n",
       "      <td>11437</td>\n",
       "      <td>1765</td>\n",
       "      <td>S</td>\n",
       "      <td></td>\n",
       "      <td></td>\n",
       "    </tr>\n",
       "    <tr>\n",
       "      <th>4997</th>\n",
       "      <td>2018-10-31 08:05:12</td>\n",
       "      <td>474</td>\n",
       "      <td>1765</td>\n",
       "      <td>S</td>\n",
       "      <td></td>\n",
       "      <td></td>\n",
       "      <td>1786</td>\n",
       "      <td>S</td>\n",
       "      <td></td>\n",
       "      <td></td>\n",
       "    </tr>\n",
       "    <tr>\n",
       "      <th>4998</th>\n",
       "      <td>2018-10-31 08:05:12</td>\n",
       "      <td>476</td>\n",
       "      <td>1765</td>\n",
       "      <td>S</td>\n",
       "      <td>1647</td>\n",
       "      <td>11474</td>\n",
       "      <td>1786</td>\n",
       "      <td>S</td>\n",
       "      <td></td>\n",
       "      <td></td>\n",
       "    </tr>\n",
       "    <tr>\n",
       "      <th>4999</th>\n",
       "      <td>2018-10-31 09:11:24</td>\n",
       "      <td>28</td>\n",
       "      <td>1765</td>\n",
       "      <td>S</td>\n",
       "      <td></td>\n",
       "      <td></td>\n",
       "      <td>1786</td>\n",
       "      <td>S</td>\n",
       "      <td></td>\n",
       "      <td></td>\n",
       "    </tr>\n",
       "  </tbody>\n",
       "</table>\n",
       "<p>5000 rows × 10 columns</p>\n",
       "</div>"
      ],
      "text/plain": [
       "                timestamp  durata  mittente is_mittente_intercettato  \\\n",
       "0     2017-09-20 12:34:40     117      1765                        S   \n",
       "1     2017-09-20 12:34:40     116      1765                        S   \n",
       "2     2017-09-20 14:50:20      56      1765                        S   \n",
       "3     2017-09-20 14:50:20      57      1765                        S   \n",
       "4     2017-09-20 14:50:20      57      1765                        S   \n",
       "...                   ...     ...       ...                      ...   \n",
       "4995  2018-10-30 19:24:45      19      1765                        S   \n",
       "4996  2018-10-30 19:27:21      47      1848                        S   \n",
       "4997  2018-10-31 08:05:12     474      1765                        S   \n",
       "4998  2018-10-31 08:05:12     476      1765                        S   \n",
       "4999  2018-10-31 09:11:24      28      1765                        S   \n",
       "\n",
       "     mittente_cella_start mittente_cella_end  destinatario  \\\n",
       "0                   10770              10770          1786   \n",
       "1                                                     1786   \n",
       "2                                                     8677   \n",
       "3                     649                649          1776   \n",
       "4                     649                649          1776   \n",
       "...                   ...                ...           ...   \n",
       "4995                 7886               7886          1848   \n",
       "4996                 7886              11437          1765   \n",
       "4997                                                  1786   \n",
       "4998                 1647              11474          1786   \n",
       "4999                                                  1786   \n",
       "\n",
       "     is_destinatario_intercettato destinatario_cella_start  \\\n",
       "0                               S                            \n",
       "1                               S                            \n",
       "2                               N                            \n",
       "3                               N                            \n",
       "4                               N                            \n",
       "...                           ...                      ...   \n",
       "4995                            S                            \n",
       "4996                            S                            \n",
       "4997                            S                            \n",
       "4998                            S                            \n",
       "4999                            S                            \n",
       "\n",
       "     destinatario_cella_end  \n",
       "0                            \n",
       "1                            \n",
       "2                            \n",
       "3                            \n",
       "4                            \n",
       "...                     ...  \n",
       "4995                         \n",
       "4996                         \n",
       "4997                         \n",
       "4998                         \n",
       "4999                         \n",
       "\n",
       "[5000 rows x 10 columns]"
      ]
     },
     "execution_count": 29,
     "metadata": {},
     "output_type": "execute_result"
    }
   ],
   "source": [
    "tabulati_ridotti_example"
   ]
  },
  {
   "cell_type": "code",
   "execution_count": 30,
   "metadata": {},
   "outputs": [
    {
     "data": {
      "text/plain": [
       "0"
      ]
     },
     "execution_count": 30,
     "metadata": {},
     "output_type": "execute_result"
    }
   ],
   "source": [
    "tabulati_ridotti_example_n=  tabulati_ridotti_example[tabulati_ridotti_example[\"is_mittente_intercettato\"] == \"N\"]\n",
    "tabulati_ridotti_example_n_n=  tabulati_ridotti_example_n[tabulati_ridotti_example_n[\"is_destinatario_intercettato\"] == \"N\"]\n",
    "len(tabulati_ridotti_example_n_n)\n"
   ]
  },
  {
   "cell_type": "code",
   "execution_count": 35,
   "metadata": {},
   "outputs": [
    {
     "data": {
      "text/plain": [
       "2826"
      ]
     },
     "execution_count": 35,
     "metadata": {},
     "output_type": "execute_result"
    }
   ],
   "source": [
    "#tabulati_ridotti_example_has_cell_destin = tabulati_ridotti_example[]\n",
    "#tabulati_ridotti_example_has_cel = tabulati_ridotti_example.mask((tabulati_ridotti_example[\"mittente_cella_start\"] == \"\") & (tabulati_ridotti_example[\"destinatario_cella_start\"] == \"\"))\n",
    "tabulati_ridotti_example_no_cel=  tabulati_ridotti_example[tabulati_ridotti_example[\"mittente_cella_start\"] == \"\"]\n",
    "tabulati_ridotti_example_no_cel=  tabulati_ridotti_example_no_cel[tabulati_ridotti_example_no_cel[\"destinatario_cella_start\"] == \"\"]\n",
    "\n",
    "\n",
    "len(tabulati_ridotti_example_no_cel)"
   ]
  }
 ],
 "metadata": {
  "kernelspec": {
   "display_name": "Python 3",
   "language": "python",
   "name": "python3"
  },
  "language_info": {
   "codemirror_mode": {
    "name": "ipython",
    "version": 3
   },
   "file_extension": ".py",
   "mimetype": "text/x-python",
   "name": "python",
   "nbconvert_exporter": "python",
   "pygments_lexer": "ipython3",
   "version": "3.7.4"
  }
 },
 "nbformat": 4,
 "nbformat_minor": 4
}
