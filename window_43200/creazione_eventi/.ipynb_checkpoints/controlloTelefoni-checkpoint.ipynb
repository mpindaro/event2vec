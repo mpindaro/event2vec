{
 "cells": [
  {
   "cell_type": "code",
   "execution_count": 28,
   "metadata": {},
   "outputs": [],
   "source": [
    "import pandas as pd\n",
    "import re"
   ]
  },
  {
   "cell_type": "code",
   "execution_count": 2,
   "metadata": {},
   "outputs": [
    {
     "data": {
      "text/plain": [
       "52906"
      ]
     },
     "execution_count": 2,
     "metadata": {},
     "output_type": "execute_result"
    }
   ],
   "source": [
    "phones = pd.read_csv(\"telefoni.csv\")\n",
    "phones.head()\n",
    "len(phones)"
   ]
  },
  {
   "cell_type": "markdown",
   "metadata": {},
   "source": [
    "Calcolo dei numeri di telefono non ok"
   ]
  },
  {
   "cell_type": "code",
   "execution_count": 3,
   "metadata": {},
   "outputs": [
    {
     "name": "stderr",
     "output_type": "stream",
     "text": [
      "/home/mpindaro/.local/lib/python3.7/site-packages/pandas/core/strings.py:1843: UserWarning: This pattern has match groups. To actually get the groups, use str.extract.\n",
      "  return func(self, *args, **kwargs)\n"
     ]
    },
    {
     "data": {
      "text/html": [
       "<div>\n",
       "<style scoped>\n",
       "    .dataframe tbody tr th:only-of-type {\n",
       "        vertical-align: middle;\n",
       "    }\n",
       "\n",
       "    .dataframe tbody tr th {\n",
       "        vertical-align: top;\n",
       "    }\n",
       "\n",
       "    .dataframe thead th {\n",
       "        text-align: right;\n",
       "    }\n",
       "</style>\n",
       "<table border=\"1\" class=\"dataframe\">\n",
       "  <thead>\n",
       "    <tr style=\"text-align: right;\">\n",
       "      <th></th>\n",
       "      <th>telefono</th>\n",
       "      <th>is_intercettato</th>\n",
       "    </tr>\n",
       "  </thead>\n",
       "  <tbody>\n",
       "    <tr>\n",
       "      <th>6</th>\n",
       "      <td>+393903298150592</td>\n",
       "      <td>N</td>\n",
       "    </tr>\n",
       "    <tr>\n",
       "      <th>8</th>\n",
       "      <td>+3932+884611</td>\n",
       "      <td>N</td>\n",
       "    </tr>\n",
       "    <tr>\n",
       "      <th>10</th>\n",
       "      <td>+3938+128273</td>\n",
       "      <td>N</td>\n",
       "    </tr>\n",
       "    <tr>\n",
       "      <th>16</th>\n",
       "      <td>+3932+958267</td>\n",
       "      <td>N</td>\n",
       "    </tr>\n",
       "    <tr>\n",
       "      <th>23</th>\n",
       "      <td>+3906811+391</td>\n",
       "      <td>N</td>\n",
       "    </tr>\n",
       "    <tr>\n",
       "      <th>...</th>\n",
       "      <td>...</td>\n",
       "      <td>...</td>\n",
       "    </tr>\n",
       "    <tr>\n",
       "      <th>52881</th>\n",
       "      <td>+393903405904883</td>\n",
       "      <td>N</td>\n",
       "    </tr>\n",
       "    <tr>\n",
       "      <th>52885</th>\n",
       "      <td>+393903917515479</td>\n",
       "      <td>N</td>\n",
       "    </tr>\n",
       "    <tr>\n",
       "      <th>52888</th>\n",
       "      <td>+393903331619305</td>\n",
       "      <td>N</td>\n",
       "    </tr>\n",
       "    <tr>\n",
       "      <th>52890</th>\n",
       "      <td>+393903393376372</td>\n",
       "      <td>N</td>\n",
       "    </tr>\n",
       "    <tr>\n",
       "      <th>52903</th>\n",
       "      <td>+393903282166120</td>\n",
       "      <td>N</td>\n",
       "    </tr>\n",
       "  </tbody>\n",
       "</table>\n",
       "<p>4658 rows × 2 columns</p>\n",
       "</div>"
      ],
      "text/plain": [
       "               telefono is_intercettato\n",
       "6      +393903298150592               N\n",
       "8          +3932+884611               N\n",
       "10         +3938+128273               N\n",
       "16         +3932+958267               N\n",
       "23         +3906811+391               N\n",
       "...                 ...             ...\n",
       "52881  +393903405904883               N\n",
       "52885  +393903917515479               N\n",
       "52888  +393903331619305               N\n",
       "52890  +393903393376372               N\n",
       "52903  +393903282166120               N\n",
       "\n",
       "[4658 rows x 2 columns]"
      ]
     },
     "execution_count": 3,
     "metadata": {},
     "output_type": "execute_result"
    }
   ],
   "source": [
    "regex = r\"\\+(9[976]\\d|8[987530]\\d|6[987]\\d|5[90]\\d|42\\d|3[875]\\d|2[98654321]\\d|9[8543210]|8[6421]|6[6543210]|5[87654321]|4[987654310]|3[9643210]|2[70]|7|1)\\W*\\d\\W*\\d\\W*\\d\\W*\\d\\W*\\d\\W*\\d\\W*\\d\\W*\\d\\W*(\\d{1,2})$\"\n",
    "\n",
    "not_ok_phones = phones[phones.telefono.str.contains(regex)==False]\n",
    "not_ok_phones"
   ]
  },
  {
   "cell_type": "markdown",
   "metadata": {},
   "source": [
    "Proporre -1 e 1 invece di S e N"
   ]
  },
  {
   "cell_type": "markdown",
   "metadata": {},
   "source": [
    "## Statistiche"
   ]
  },
  {
   "cell_type": "code",
   "execution_count": 4,
   "metadata": {},
   "outputs": [
    {
     "name": "stdout",
     "output_type": "stream",
     "text": [
      "Numero di numeri 'rotti': 4658\n",
      "Percentuale di numeri 'rotti': 8.80%\n",
      "\n",
      "Numero di numeri intercettati: 355\n",
      "Numero di numeri 'rotti' intercettati: 45\n",
      "Percentuale di numeri 'rotti' intercettati sul numero di numeri intercettati: 12.68 %\n"
     ]
    }
   ],
   "source": [
    "number_of_not_ok_phones = len(not_ok_phones)\n",
    "number_of_total_phones = len(phones)\n",
    "\n",
    "intercepted_phones = phones[phones[\"is_intercettato\"] == \"S\"]\n",
    "print(f\"Numero di numeri 'rotti': {number_of_not_ok_phones}\")\n",
    "print(f\"Percentuale di numeri 'rotti': {(number_of_not_ok_phones/number_of_total_phones * 100):.2f}%\")\n",
    "print()\n",
    "number_of_s_n = not_ok_phones[\"is_intercettato\"].value_counts().values\n",
    "print(f\"Numero di numeri intercettati: {len(intercepted_phones)}\")\n",
    "print(f\"Numero di numeri 'rotti' intercettati: {number_of_s_n[1]}\")\n",
    "print(f\"Percentuale di numeri 'rotti' intercettati sul numero di numeri intercettati: {(number_of_s_n[1]/len(intercepted_phones) * 100):.2f} %\")\n"
   ]
  },
  {
   "cell_type": "markdown",
   "metadata": {},
   "source": [
    "## Quelli col doppio + ?"
   ]
  },
  {
   "cell_type": "code",
   "execution_count": 5,
   "metadata": {},
   "outputs": [],
   "source": [
    "intercepted = pd.read_csv(\"intercettati.csv\", names=[\"telefono\"])\n",
    "intercepted_list = list(intercepted[\"telefono\"].values)"
   ]
  },
  {
   "cell_type": "code",
   "execution_count": 6,
   "metadata": {},
   "outputs": [
    {
     "name": "stdout",
     "output_type": "stream",
     "text": [
      "2775\n",
      "6\n"
     ]
    },
    {
     "name": "stderr",
     "output_type": "stream",
     "text": [
      "/home/mpindaro/.local/lib/python3.7/site-packages/pandas/core/generic.py:5208: SettingWithCopyWarning: \n",
      "A value is trying to be set on a copy of a slice from a DataFrame.\n",
      "Try using .loc[row_indexer,col_indexer] = value instead\n",
      "\n",
      "See the caveats in the documentation: http://pandas.pydata.org/pandas-docs/stable/user_guide/indexing.html#returning-a-view-versus-a-copy\n",
      "  self[name] = value\n"
     ]
    }
   ],
   "source": [
    "has_two_plus = r\"\\+[0-9]+\\+[0-9]+|\\+[0-9]+\\+\"\n",
    "phones_with_two_plus = not_ok_phones[not_ok_phones.telefono.str.contains(has_two_plus)==True]\n",
    "print(len(phones_with_two_plus))\n",
    "phones_with_two_plus.telefono = phones_with_two_plus.telefono.map(lambda v: v[0] + v[1:].replace(\"+\", \"00\") )\n",
    "\n",
    "phones_with_two_plus = phones_with_two_plus[[numero in intercepted_list for numero in phones_with_two_plus[\"telefono\"]]]\n",
    "print(len(phones_with_two_plus))"
   ]
  },
  {
   "cell_type": "markdown",
   "metadata": {},
   "source": [
    "Fix dataframe originale"
   ]
  },
  {
   "cell_type": "code",
   "execution_count": 7,
   "metadata": {},
   "outputs": [],
   "source": [
    "def fixIsIntercepted(phone, is_intercepted, intercepted_list):\n",
    "    return \"S\" if phone in intercepted_list else is_intercepted"
   ]
  },
  {
   "cell_type": "code",
   "execution_count": 8,
   "metadata": {},
   "outputs": [],
   "source": [
    "phones.telefono = phones.telefono.map(lambda v: (v[0] + v[1:].replace(\"+\", \"00\")) if (re.search(has_two_plus, v)!= None) else v )\n",
    "phones.is_intercettato = phones.apply(lambda x: fixIsIntercepted(x['telefono'], x['is_intercettato'], intercepted_list), axis=1)"
   ]
  },
  {
   "cell_type": "markdown",
   "metadata": {},
   "source": [
    "## Nuove statistiche"
   ]
  },
  {
   "cell_type": "code",
   "execution_count": 10,
   "metadata": {},
   "outputs": [],
   "source": [
    "regex = r\"\\+(9[976]\\d|8[987530]\\d|6[987]\\d|5[90]\\d|42\\d|3[875]\\d|2[98654321]\\d|9[8543210]|8[6421]|6[6543210]|5[87654321]|4[987654310]|3[9643210]|2[70]|7|1)\\W*\\d\\W*\\d\\W*\\d\\W*\\d\\W*\\d\\W*\\d\\W*\\d\\W*\\d\\W*(\\d{1,2})$\"\n",
    "\n",
    "not_ok_phones = phones[phones.telefono.str.contains(regex)==False]"
   ]
  },
  {
   "cell_type": "markdown",
   "metadata": {},
   "source": [
    "Cambiare il flag a quelli fixati"
   ]
  },
  {
   "cell_type": "code",
   "execution_count": 11,
   "metadata": {},
   "outputs": [
    {
     "name": "stdout",
     "output_type": "stream",
     "text": [
      "Numero di numeri 'rotti': 1937\n",
      "Percentuale di numeri 'rotti': 3.66%\n",
      "\n",
      "Numero di numeri intercettati: 361\n",
      "Numero di numeri 'rotti' intercettati: 45\n",
      "Percentuale di numeri 'rotti' intercettati sul numero di numeri intercettati: 12.47 %\n"
     ]
    }
   ],
   "source": [
    "number_of_not_ok_phones = len(not_ok_phones)\n",
    "number_of_total_phones = len(phones)\n",
    "\n",
    "intercepted_phones = phones[phones[\"is_intercettato\"] == \"S\"]\n",
    "print(f\"Numero di numeri 'rotti': {number_of_not_ok_phones}\")\n",
    "print(f\"Percentuale di numeri 'rotti': {(number_of_not_ok_phones/number_of_total_phones * 100):.2f}%\")\n",
    "print()\n",
    "number_of_s_n = not_ok_phones[\"is_intercettato\"].value_counts().values\n",
    "print(f\"Numero di numeri intercettati: {len(intercepted_phones)}\")\n",
    "print(f\"Numero di numeri 'rotti' intercettati: {number_of_s_n[1]}\")\n",
    "print(f\"Percentuale di numeri 'rotti' intercettati sul numero di numeri intercettati: {(number_of_s_n[1]/len(intercepted_phones) * 100):.2f} %\")"
   ]
  },
  {
   "cell_type": "code",
   "execution_count": 12,
   "metadata": {},
   "outputs": [
    {
     "data": {
      "text/html": [
       "<div>\n",
       "<style scoped>\n",
       "    .dataframe tbody tr th:only-of-type {\n",
       "        vertical-align: middle;\n",
       "    }\n",
       "\n",
       "    .dataframe tbody tr th {\n",
       "        vertical-align: top;\n",
       "    }\n",
       "\n",
       "    .dataframe thead th {\n",
       "        text-align: right;\n",
       "    }\n",
       "</style>\n",
       "<table border=\"1\" class=\"dataframe\">\n",
       "  <thead>\n",
       "    <tr style=\"text-align: right;\">\n",
       "      <th></th>\n",
       "      <th>telefono</th>\n",
       "      <th>is_intercettato</th>\n",
       "    </tr>\n",
       "  </thead>\n",
       "  <tbody>\n",
       "    <tr>\n",
       "      <th>1770</th>\n",
       "      <td>+421000</td>\n",
       "      <td>S</td>\n",
       "    </tr>\n",
       "    <tr>\n",
       "      <th>1792</th>\n",
       "      <td>+06916248</td>\n",
       "      <td>S</td>\n",
       "    </tr>\n",
       "    <tr>\n",
       "      <th>1799</th>\n",
       "      <td>+055414920</td>\n",
       "      <td>S</td>\n",
       "    </tr>\n",
       "    <tr>\n",
       "      <th>1813</th>\n",
       "      <td>+3906147258369</td>\n",
       "      <td>S</td>\n",
       "    </tr>\n",
       "    <tr>\n",
       "      <th>1815</th>\n",
       "      <td>+029522234</td>\n",
       "      <td>S</td>\n",
       "    </tr>\n",
       "    <tr>\n",
       "      <th>1817</th>\n",
       "      <td>+08119569239</td>\n",
       "      <td>S</td>\n",
       "    </tr>\n",
       "    <tr>\n",
       "      <th>1855</th>\n",
       "      <td>+400190</td>\n",
       "      <td>S</td>\n",
       "    </tr>\n",
       "    <tr>\n",
       "      <th>1857</th>\n",
       "      <td>+421009</td>\n",
       "      <td>S</td>\n",
       "    </tr>\n",
       "    <tr>\n",
       "      <th>1867</th>\n",
       "      <td>+02454001</td>\n",
       "      <td>S</td>\n",
       "    </tr>\n",
       "    <tr>\n",
       "      <th>1869</th>\n",
       "      <td>+091342858</td>\n",
       "      <td>S</td>\n",
       "    </tr>\n",
       "    <tr>\n",
       "      <th>1876</th>\n",
       "      <td>+346992306</td>\n",
       "      <td>S</td>\n",
       "    </tr>\n",
       "    <tr>\n",
       "      <th>1877</th>\n",
       "      <td>+06203041</td>\n",
       "      <td>S</td>\n",
       "    </tr>\n",
       "    <tr>\n",
       "      <th>1878</th>\n",
       "      <td>+05562320</td>\n",
       "      <td>S</td>\n",
       "    </tr>\n",
       "    <tr>\n",
       "      <th>1900</th>\n",
       "      <td>+055700451</td>\n",
       "      <td>S</td>\n",
       "    </tr>\n",
       "    <tr>\n",
       "      <th>1907</th>\n",
       "      <td>+0999927</td>\n",
       "      <td>S</td>\n",
       "    </tr>\n",
       "    <tr>\n",
       "      <th>1913</th>\n",
       "      <td>+0999925</td>\n",
       "      <td>S</td>\n",
       "    </tr>\n",
       "    <tr>\n",
       "      <th>1918</th>\n",
       "      <td>+0999921</td>\n",
       "      <td>S</td>\n",
       "    </tr>\n",
       "    <tr>\n",
       "      <th>1919</th>\n",
       "      <td>+0999924</td>\n",
       "      <td>S</td>\n",
       "    </tr>\n",
       "    <tr>\n",
       "      <th>1920</th>\n",
       "      <td>+01119829234</td>\n",
       "      <td>S</td>\n",
       "    </tr>\n",
       "    <tr>\n",
       "      <th>2019</th>\n",
       "      <td>+40190</td>\n",
       "      <td>S</td>\n",
       "    </tr>\n",
       "    <tr>\n",
       "      <th>2030</th>\n",
       "      <td>+409761</td>\n",
       "      <td>S</td>\n",
       "    </tr>\n",
       "    <tr>\n",
       "      <th>2100</th>\n",
       "      <td>+5121</td>\n",
       "      <td>S</td>\n",
       "    </tr>\n",
       "    <tr>\n",
       "      <th>7952</th>\n",
       "      <td>+140</td>\n",
       "      <td>S</td>\n",
       "    </tr>\n",
       "    <tr>\n",
       "      <th>8150</th>\n",
       "      <td>+055446121</td>\n",
       "      <td>S</td>\n",
       "    </tr>\n",
       "    <tr>\n",
       "      <th>35618</th>\n",
       "      <td>+3535</td>\n",
       "      <td>S</td>\n",
       "    </tr>\n",
       "    <tr>\n",
       "      <th>35642</th>\n",
       "      <td>+604358712</td>\n",
       "      <td>S</td>\n",
       "    </tr>\n",
       "    <tr>\n",
       "      <th>35671</th>\n",
       "      <td>+347177834867000</td>\n",
       "      <td>S</td>\n",
       "    </tr>\n",
       "    <tr>\n",
       "      <th>35684</th>\n",
       "      <td>+338215</td>\n",
       "      <td>S</td>\n",
       "    </tr>\n",
       "    <tr>\n",
       "      <th>35707</th>\n",
       "      <td>+358389</td>\n",
       "      <td>S</td>\n",
       "    </tr>\n",
       "    <tr>\n",
       "      <th>35712</th>\n",
       "      <td>+399417</td>\n",
       "      <td>S</td>\n",
       "    </tr>\n",
       "    <tr>\n",
       "      <th>35714</th>\n",
       "      <td>+785111</td>\n",
       "      <td>S</td>\n",
       "    </tr>\n",
       "    <tr>\n",
       "      <th>43324</th>\n",
       "      <td>+4022</td>\n",
       "      <td>S</td>\n",
       "    </tr>\n",
       "    <tr>\n",
       "      <th>43369</th>\n",
       "      <td>+055721172</td>\n",
       "      <td>S</td>\n",
       "    </tr>\n",
       "    <tr>\n",
       "      <th>43526</th>\n",
       "      <td>+454804</td>\n",
       "      <td>S</td>\n",
       "    </tr>\n",
       "    <tr>\n",
       "      <th>43528</th>\n",
       "      <td>+116169</td>\n",
       "      <td>S</td>\n",
       "    </tr>\n",
       "    <tr>\n",
       "      <th>43548</th>\n",
       "      <td>+908749</td>\n",
       "      <td>S</td>\n",
       "    </tr>\n",
       "    <tr>\n",
       "      <th>43576</th>\n",
       "      <td>+380680</td>\n",
       "      <td>S</td>\n",
       "    </tr>\n",
       "    <tr>\n",
       "      <th>43743</th>\n",
       "      <td>+823000</td>\n",
       "      <td>S</td>\n",
       "    </tr>\n",
       "    <tr>\n",
       "      <th>43894</th>\n",
       "      <td>+095272764</td>\n",
       "      <td>S</td>\n",
       "    </tr>\n",
       "    <tr>\n",
       "      <th>43939</th>\n",
       "      <td>+055212406</td>\n",
       "      <td>S</td>\n",
       "    </tr>\n",
       "    <tr>\n",
       "      <th>43946</th>\n",
       "      <td>+336664138</td>\n",
       "      <td>S</td>\n",
       "    </tr>\n",
       "    <tr>\n",
       "      <th>46502</th>\n",
       "      <td>+011217931</td>\n",
       "      <td>S</td>\n",
       "    </tr>\n",
       "    <tr>\n",
       "      <th>46507</th>\n",
       "      <td>+609013</td>\n",
       "      <td>S</td>\n",
       "    </tr>\n",
       "    <tr>\n",
       "      <th>46519</th>\n",
       "      <td>+35795222643</td>\n",
       "      <td>S</td>\n",
       "    </tr>\n",
       "    <tr>\n",
       "      <th>46521</th>\n",
       "      <td>+35795222580</td>\n",
       "      <td>S</td>\n",
       "    </tr>\n",
       "  </tbody>\n",
       "</table>\n",
       "</div>"
      ],
      "text/plain": [
       "               telefono is_intercettato\n",
       "1770            +421000               S\n",
       "1792          +06916248               S\n",
       "1799         +055414920               S\n",
       "1813     +3906147258369               S\n",
       "1815         +029522234               S\n",
       "1817       +08119569239               S\n",
       "1855            +400190               S\n",
       "1857            +421009               S\n",
       "1867          +02454001               S\n",
       "1869         +091342858               S\n",
       "1876         +346992306               S\n",
       "1877          +06203041               S\n",
       "1878          +05562320               S\n",
       "1900         +055700451               S\n",
       "1907           +0999927               S\n",
       "1913           +0999925               S\n",
       "1918           +0999921               S\n",
       "1919           +0999924               S\n",
       "1920       +01119829234               S\n",
       "2019             +40190               S\n",
       "2030            +409761               S\n",
       "2100              +5121               S\n",
       "7952               +140               S\n",
       "8150         +055446121               S\n",
       "35618             +3535               S\n",
       "35642        +604358712               S\n",
       "35671  +347177834867000               S\n",
       "35684           +338215               S\n",
       "35707           +358389               S\n",
       "35712           +399417               S\n",
       "35714           +785111               S\n",
       "43324             +4022               S\n",
       "43369        +055721172               S\n",
       "43526           +454804               S\n",
       "43528           +116169               S\n",
       "43548           +908749               S\n",
       "43576           +380680               S\n",
       "43743           +823000               S\n",
       "43894        +095272764               S\n",
       "43939        +055212406               S\n",
       "43946        +336664138               S\n",
       "46502        +011217931               S\n",
       "46507           +609013               S\n",
       "46519      +35795222643               S\n",
       "46521      +35795222580               S"
      ]
     },
     "execution_count": 12,
     "metadata": {},
     "output_type": "execute_result"
    }
   ],
   "source": [
    "not_ok_phones_s = not_ok_phones[not_ok_phones[\"is_intercettato\"]==\"S\"]\n",
    "not_ok_phones_s"
   ]
  },
  {
   "cell_type": "markdown",
   "metadata": {},
   "source": [
    "- Numeri di 6 cifre: sembrebbero essere numeri scam o inesistenti\n",
    "- 40190: sembrerebbe numero di vodafone\n",
    "- Quelli che iniziano con 0 sembrerebbe gli manchi il prefisso. Numeri fissi?\n",
    "- 4022: numero di Wind\n",
    "- Quelli con 9 così consecutivi mi puzzano\n",
    "- Può aver senso cercare questi numeri nei tabulati estratti da andrea che magari sono stati trovati?"
   ]
  },
  {
   "cell_type": "code",
   "execution_count": 13,
   "metadata": {},
   "outputs": [
    {
     "name": "stdout",
     "output_type": "stream",
     "text": [
      "Numero di telefoni con flag intercettato che risultano essere in intercettati.csv: 152\n",
      "Numero di telefoni con flag non intercettato che risultano essere in intercettati.csv: 209\n"
     ]
    }
   ],
   "source": [
    "mask = [numero in intercepted_list for numero in intercepted_phones[\"telefono\"]]\n",
    "print(f\"Numero di telefoni con flag intercettato che risultano essere in intercettati.csv: {mask.count(True)}\")\n",
    "print(f\"Numero di telefoni con flag non intercettato che risultano essere in intercettati.csv: {mask.count(False)}\")"
   ]
  },
  {
   "cell_type": "code",
   "execution_count": 14,
   "metadata": {},
   "outputs": [],
   "source": [
    "little_not_ok_phone_s = list(not_ok_phones_s[[  len(telefono)<10 for telefono in list(not_ok_phones_s[\"telefono\"].values) ]].telefono)"
   ]
  },
  {
   "cell_type": "code",
   "execution_count": 15,
   "metadata": {},
   "outputs": [
    {
     "name": "stdout",
     "output_type": "stream",
     "text": [
      "Telefono: +421000, candidati []\n",
      "Telefono: +06916248, candidati []\n",
      "Telefono: +400190, candidati []\n",
      "Telefono: +421009, candidati []\n",
      "Telefono: +02454001, candidati []\n",
      "Telefono: +06203041, candidati []\n",
      "Telefono: +05562320, candidati []\n",
      "Telefono: +0999927, candidati []\n",
      "Telefono: +0999925, candidati []\n",
      "Telefono: +0999921, candidati []\n",
      "Telefono: +0999924, candidati []\n",
      "Telefono: +40190, candidati []\n",
      "Telefono: +409761, candidati []\n",
      "Telefono: +5121, candidati []\n",
      "Telefono: +140, candidati ['+355153064072140', '+863607037598140', '+359140075129380', '+35914007512938']\n",
      "Telefono: +3535, candidati []\n",
      "Telefono: +338215, candidati ['+34642338215', '+338215']\n",
      "Telefono: +358389, candidati ['+34604358389', '+358389']\n",
      "Telefono: +399417, candidati ['+34632399417', '+399417']\n",
      "Telefono: +785111, candidati ['+34642785111', '+785111']\n",
      "Telefono: +4022, candidati []\n",
      "Telefono: +454804, candidati ['+34722454804', '+454804']\n",
      "Telefono: +116169, candidati ['+34722116169', '+116169']\n",
      "Telefono: +908749, candidati ['+34672908749', '+908749']\n",
      "Telefono: +380680, candidati ['+34642380680', '+380680']\n",
      "Telefono: +823000, candidati ['+34662823000', '+823000']\n",
      "Telefono: +609013, candidati ['+34602609013', '+609013']\n"
     ]
    }
   ],
   "source": [
    "for phone in little_not_ok_phone_s:\n",
    "    candidate_intercepted_phones = list(filter(lambda v:  phone.strip(\"+\") in v , intercepted_list))\n",
    "    print(f\"Telefono: {phone}, candidati {candidate_intercepted_phones}\")"
   ]
  },
  {
   "cell_type": "code",
   "execution_count": 16,
   "metadata": {},
   "outputs": [
    {
     "name": "stdout",
     "output_type": "stream",
     "text": [
      "[]\n",
      "True\n"
     ]
    }
   ],
   "source": [
    "bobo = phones[phones.telefono == \"+3467200430\"]#COBAJ Ermal\n",
    "print(list(bobo.is_intercettato.values))\n",
    "print(\"+3467200430\" in intercepted_list)"
   ]
  },
  {
   "cell_type": "code",
   "execution_count": 17,
   "metadata": {},
   "outputs": [
    {
     "name": "stdout",
     "output_type": "stream",
     "text": [
      "[]\n",
      "True\n"
     ]
    }
   ],
   "source": [
    "bobo = phones[phones.telefono == \"+3426623092\"]#Mazzetti\n",
    "print(list(bobo.is_intercettato.values))\n",
    "print(\"+3426623092\" in intercepted_list)"
   ]
  },
  {
   "cell_type": "markdown",
   "metadata": {},
   "source": [
    "Soluzione: inserire intercettati.csv mancanti in telefoni.csv?"
   ]
  },
  {
   "cell_type": "code",
   "execution_count": 18,
   "metadata": {},
   "outputs": [],
   "source": [
    "not_flagged = list(filter(lambda x: not x in list(phones.telefono), intercepted_list ))"
   ]
  },
  {
   "cell_type": "code",
   "execution_count": 19,
   "metadata": {},
   "outputs": [
    {
     "data": {
      "text/plain": [
       "310"
      ]
     },
     "execution_count": 19,
     "metadata": {},
     "output_type": "execute_result"
    }
   ],
   "source": [
    "len(not_flagged)"
   ]
  },
  {
   "cell_type": "code",
   "execution_count": 21,
   "metadata": {},
   "outputs": [],
   "source": [
    "not_flagged_p = [ (p, 'S') for p in not_flagged ]\n",
    "toAppend = pd.DataFrame(not_flagged_p, columns = [\"telefono\", \"is_intercettato\"])"
   ]
  },
  {
   "cell_type": "code",
   "execution_count": 23,
   "metadata": {},
   "outputs": [
    {
     "data": {
      "text/html": [
       "<div>\n",
       "<style scoped>\n",
       "    .dataframe tbody tr th:only-of-type {\n",
       "        vertical-align: middle;\n",
       "    }\n",
       "\n",
       "    .dataframe tbody tr th {\n",
       "        vertical-align: top;\n",
       "    }\n",
       "\n",
       "    .dataframe thead th {\n",
       "        text-align: right;\n",
       "    }\n",
       "</style>\n",
       "<table border=\"1\" class=\"dataframe\">\n",
       "  <thead>\n",
       "    <tr style=\"text-align: right;\">\n",
       "      <th></th>\n",
       "      <th>telefono</th>\n",
       "      <th>is_intercettato</th>\n",
       "    </tr>\n",
       "  </thead>\n",
       "  <tbody>\n",
       "    <tr>\n",
       "      <th>0</th>\n",
       "      <td>+3405147944</td>\n",
       "      <td>S</td>\n",
       "    </tr>\n",
       "    <tr>\n",
       "      <th>1</th>\n",
       "      <td>+3661814250</td>\n",
       "      <td>S</td>\n",
       "    </tr>\n",
       "    <tr>\n",
       "      <th>2</th>\n",
       "      <td>+356257073804029</td>\n",
       "      <td>S</td>\n",
       "    </tr>\n",
       "    <tr>\n",
       "      <th>3</th>\n",
       "      <td>+3313326311</td>\n",
       "      <td>S</td>\n",
       "    </tr>\n",
       "    <tr>\n",
       "      <th>4</th>\n",
       "      <td>+3356195970</td>\n",
       "      <td>S</td>\n",
       "    </tr>\n",
       "    <tr>\n",
       "      <th>...</th>\n",
       "      <td>...</td>\n",
       "      <td>...</td>\n",
       "    </tr>\n",
       "    <tr>\n",
       "      <th>305</th>\n",
       "      <td>+3421224703</td>\n",
       "      <td>S</td>\n",
       "    </tr>\n",
       "    <tr>\n",
       "      <th>306</th>\n",
       "      <td>+3533696305</td>\n",
       "      <td>S</td>\n",
       "    </tr>\n",
       "    <tr>\n",
       "      <th>307</th>\n",
       "      <td>+3454632482</td>\n",
       "      <td>S</td>\n",
       "    </tr>\n",
       "    <tr>\n",
       "      <th>308</th>\n",
       "      <td>+920720</td>\n",
       "      <td>S</td>\n",
       "    </tr>\n",
       "    <tr>\n",
       "      <th>309</th>\n",
       "      <td>+665557</td>\n",
       "      <td>S</td>\n",
       "    </tr>\n",
       "  </tbody>\n",
       "</table>\n",
       "<p>310 rows × 2 columns</p>\n",
       "</div>"
      ],
      "text/plain": [
       "             telefono is_intercettato\n",
       "0         +3405147944               S\n",
       "1         +3661814250               S\n",
       "2    +356257073804029               S\n",
       "3         +3313326311               S\n",
       "4         +3356195970               S\n",
       "..                ...             ...\n",
       "305       +3421224703               S\n",
       "306       +3533696305               S\n",
       "307       +3454632482               S\n",
       "308           +920720               S\n",
       "309           +665557               S\n",
       "\n",
       "[310 rows x 2 columns]"
      ]
     },
     "execution_count": 23,
     "metadata": {},
     "output_type": "execute_result"
    }
   ],
   "source": [
    "toAppend"
   ]
  },
  {
   "cell_type": "code",
   "execution_count": 24,
   "metadata": {},
   "outputs": [
    {
     "data": {
      "text/html": [
       "<div>\n",
       "<style scoped>\n",
       "    .dataframe tbody tr th:only-of-type {\n",
       "        vertical-align: middle;\n",
       "    }\n",
       "\n",
       "    .dataframe tbody tr th {\n",
       "        vertical-align: top;\n",
       "    }\n",
       "\n",
       "    .dataframe thead th {\n",
       "        text-align: right;\n",
       "    }\n",
       "</style>\n",
       "<table border=\"1\" class=\"dataframe\">\n",
       "  <thead>\n",
       "    <tr style=\"text-align: right;\">\n",
       "      <th></th>\n",
       "      <th>telefono</th>\n",
       "      <th>is_intercettato</th>\n",
       "    </tr>\n",
       "  </thead>\n",
       "  <tbody>\n",
       "    <tr>\n",
       "      <th>0</th>\n",
       "      <td>+393479899812</td>\n",
       "      <td>N</td>\n",
       "    </tr>\n",
       "    <tr>\n",
       "      <th>1</th>\n",
       "      <td>+393493663356</td>\n",
       "      <td>S</td>\n",
       "    </tr>\n",
       "    <tr>\n",
       "      <th>2</th>\n",
       "      <td>+393245314269</td>\n",
       "      <td>N</td>\n",
       "    </tr>\n",
       "    <tr>\n",
       "      <th>3</th>\n",
       "      <td>+393280592192</td>\n",
       "      <td>N</td>\n",
       "    </tr>\n",
       "    <tr>\n",
       "      <th>4</th>\n",
       "      <td>+393467131193</td>\n",
       "      <td>N</td>\n",
       "    </tr>\n",
       "    <tr>\n",
       "      <th>...</th>\n",
       "      <td>...</td>\n",
       "      <td>...</td>\n",
       "    </tr>\n",
       "    <tr>\n",
       "      <th>305</th>\n",
       "      <td>+3421224703</td>\n",
       "      <td>S</td>\n",
       "    </tr>\n",
       "    <tr>\n",
       "      <th>306</th>\n",
       "      <td>+3533696305</td>\n",
       "      <td>S</td>\n",
       "    </tr>\n",
       "    <tr>\n",
       "      <th>307</th>\n",
       "      <td>+3454632482</td>\n",
       "      <td>S</td>\n",
       "    </tr>\n",
       "    <tr>\n",
       "      <th>308</th>\n",
       "      <td>+920720</td>\n",
       "      <td>S</td>\n",
       "    </tr>\n",
       "    <tr>\n",
       "      <th>309</th>\n",
       "      <td>+665557</td>\n",
       "      <td>S</td>\n",
       "    </tr>\n",
       "  </tbody>\n",
       "</table>\n",
       "<p>53216 rows × 2 columns</p>\n",
       "</div>"
      ],
      "text/plain": [
       "          telefono is_intercettato\n",
       "0    +393479899812               N\n",
       "1    +393493663356               S\n",
       "2    +393245314269               N\n",
       "3    +393280592192               N\n",
       "4    +393467131193               N\n",
       "..             ...             ...\n",
       "305    +3421224703               S\n",
       "306    +3533696305               S\n",
       "307    +3454632482               S\n",
       "308        +920720               S\n",
       "309        +665557               S\n",
       "\n",
       "[53216 rows x 2 columns]"
      ]
     },
     "execution_count": 24,
     "metadata": {},
     "output_type": "execute_result"
    }
   ],
   "source": [
    "phones.append(toAppend)"
   ]
  },
  {
   "cell_type": "code",
   "execution_count": 27,
   "metadata": {},
   "outputs": [],
   "source": [
    "phones.to_csv(\"fixed_phones.csv\", index=False)"
   ]
  }
 ],
 "metadata": {
  "kernelspec": {
   "display_name": "Python 3",
   "language": "python",
   "name": "python3"
  },
  "language_info": {
   "codemirror_mode": {
    "name": "ipython",
    "version": 3
   },
   "file_extension": ".py",
   "mimetype": "text/x-python",
   "name": "python",
   "nbconvert_exporter": "python",
   "pygments_lexer": "ipython3",
   "version": "3.7.4"
  }
 },
 "nbformat": 4,
 "nbformat_minor": 4
}
