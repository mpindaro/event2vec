{
 "cells": [
  {
   "cell_type": "code",
   "execution_count": 1,
   "metadata": {},
   "outputs": [],
   "source": [
    "import pandas as pd\n",
    "import re"
   ]
  },
  {
   "cell_type": "code",
   "execution_count": 8,
   "metadata": {},
   "outputs": [],
   "source": [
    "ifile = pd.read_csv(\"tabulato_semplificato.csv\")\n",
    "events = []"
   ]
  },
  {
   "cell_type": "code",
   "execution_count": 6,
   "metadata": {},
   "outputs": [],
   "source": [
    "def event1():\n",
    "    \n",
    "    finestra = 1800\n",
    "    events1 = []\n",
    "    \n",
    "    mittenti_indagati = ifile[ifile[\"is_mittente_intercettato\"] == \"S\"]\n",
    "    tabulati_indagati = mittenti_indagati[mittenti_indagati[\"is_destinatario_intercettato\"] == \"S\"]\n",
    "    tabulati_indagati.reset_index(inplace=True, drop=True)\n",
    "    \n",
    "    for index in range(len(tabulati_indagati)):\n",
    "        row = tabulati_indagati.iloc[index]\n",
    "        mittente = row[\"mittente\"]\n",
    "        destinatario = row[\"destinatario\"]\n",
    "        timestamp1 = row[\"timestamp\"]\n",
    "        \n",
    "        for i in range(index, len(tabulati_indagati)):\n",
    "            row2 = tabulati_indagati.iloc[i]\n",
    "            if(row2[\"timestamp\"]>timestamp1 + finestra):\n",
    "                break\n",
    "            elif(row2[\"mittente\"]==destinatario):\n",
    "                events1.append((timestamp1, mittente, destinatario, row2[\"destinatario\"], \"e1\"))\n",
    "            \n",
    "    return events1"
   ]
  },
  {
   "cell_type": "code",
   "execution_count": null,
   "metadata": {},
   "outputs": [],
   "source": [
    "event1()"
   ]
  }
 ],
 "metadata": {
  "kernelspec": {
   "display_name": "Python 3",
   "language": "python",
   "name": "python3"
  },
  "language_info": {
   "codemirror_mode": {
    "name": "ipython",
    "version": 3
   },
   "file_extension": ".py",
   "mimetype": "text/x-python",
   "name": "python",
   "nbconvert_exporter": "python",
   "pygments_lexer": "ipython3",
   "version": "3.7.4"
  }
 },
 "nbformat": 4,
 "nbformat_minor": 4
}
