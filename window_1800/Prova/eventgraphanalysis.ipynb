{
 "cells": [
  {
   "cell_type": "code",
   "execution_count": 37,
   "metadata": {},
   "outputs": [],
   "source": [
    "import pandas as pd\n",
    "from statsmodels.distributions.empirical_distribution import ECDF\n",
    "import matplotlib.pyplot as plt\n",
    "from scipy.stats import poisson\n",
    "import scipy.stats as stats\n",
    "from scipy.spatial import distance\n",
    "import numpy as np; np.random.seed(0)\n",
    "import seaborn as sns; sns.set_theme()\n",
    "import community as community_louvain\n",
    "import json"
   ]
  },
  {
   "cell_type": "code",
   "execution_count": 2,
   "metadata": {},
   "outputs": [],
   "source": [
    "finestra = 1800"
   ]
  },
  {
   "cell_type": "code",
   "execution_count": 3,
   "metadata": {},
   "outputs": [],
   "source": [
    "events_types = {\"1a\": {\"start\": \"u1\", \"end\":\"u3\" },\\\n",
    "                \"1b\": {\"start\": \"u1\", \"end\":\"u3\" },\\\n",
    "                \"2\": {\"start\": \"u1\", \"end\":\"u3\" },\\\n",
    "                \"3a\": {\"start\": \"u1\", \"end\":\"u4\" },\\\n",
    "                \"3b\": {\"start\": \"u1\", \"end\":\"u4\" },\\\n",
    "                \"3c\": {\"start\": \"u1\", \"end\":\"u4\" },\\\n",
    "                \"4a\": {\"start\": \"u1\", \"end\":\"u4\" },\\\n",
    "                \"4b\": {\"start\": \"u1\", \"end\":\"u4\" },\\\n",
    "                \"4c\": {\"start\": \"u1\", \"end\":\"u4\" },\\\n",
    "                \"4d\": {\"start\": \"u1\", \"end\":\"u4\" }}"
   ]
  },
  {
   "cell_type": "code",
   "execution_count": 4,
   "metadata": {},
   "outputs": [],
   "source": [
    "events = pd.read_csv(\"../data/events_sign.csv\")"
   ]
  },
  {
   "cell_type": "code",
   "execution_count": 5,
   "metadata": {},
   "outputs": [
    {
     "name": "stdout",
     "output_type": "stream",
     "text": [
      "1a 1849 1470574374\n"
     ]
    }
   ],
   "source": [
    "for i1, row1 in events.iterrows():\n",
    "    e1 = row1[\"evento\"]\n",
    "    end = row1[events_types[e1][\"end\"]]\n",
    "    timestamp1 = row1[\"timestamp\"]\n",
    "    print(e1, end, timestamp1)\n",
    "    break"
   ]
  },
  {
   "cell_type": "code",
   "execution_count": 6,
   "metadata": {},
   "outputs": [],
   "source": [
    "edges = []\n",
    "for i1, row1 in events.iterrows():\n",
    "    e1 = row1[\"evento\"]\n",
    "    end = row1[events_types[e1][\"end\"]]\n",
    "    timestamp1 = row1[\"timestamp\"]\n",
    "    \n",
    "    for i2, row2 in events.iterrows():\n",
    "        timestamp2 = row2[\"timestamp\"]\n",
    "        e2 = row2[\"evento\"]\n",
    "        start = row2[events_types[e2][\"start\"]]\n",
    "\n",
    "        if (timestamp2 > timestamp1 + finestra):\n",
    "            break\n",
    "        if(timestamp2 < timestamp1) or start!= end:\n",
    "            continue\n",
    "        edges.append((i1, i2))\n",
    "        \n",
    "    "
   ]
  },
  {
   "cell_type": "code",
   "execution_count": 7,
   "metadata": {},
   "outputs": [],
   "source": [
    "edges_df = pd.DataFrame(edges, columns = [\"source\", \"target\"])\n",
    "edges_df[\"weight\"]=1"
   ]
  },
  {
   "cell_type": "code",
   "execution_count": 8,
   "metadata": {},
   "outputs": [],
   "source": [
    "edges_df.to_csv(\"eventgraph.csv\")"
   ]
  },
  {
   "cell_type": "code",
   "execution_count": 9,
   "metadata": {},
   "outputs": [],
   "source": [
    "import networkx as nx"
   ]
  },
  {
   "cell_type": "code",
   "execution_count": 10,
   "metadata": {},
   "outputs": [],
   "source": [
    "graph = nx.from_pandas_edgelist(edges_df,  source=\"source\", target=\"target\", edge_attr=\"weight\", create_using=nx.DiGraph)"
   ]
  },
  {
   "cell_type": "code",
   "execution_count": 11,
   "metadata": {},
   "outputs": [
    {
     "name": "stdout",
     "output_type": "stream",
     "text": [
      "Number of nodes 1358\n",
      "Number of edges 3372\n"
     ]
    }
   ],
   "source": [
    "graph.remove_edges_from(nx.selfloop_edges(graph))\n",
    "print(\"Number of nodes {}\".format(graph.order()))\n",
    "print(\"Number of edges {}\".format(graph.size()))"
   ]
  },
  {
   "cell_type": "code",
   "execution_count": 12,
   "metadata": {},
   "outputs": [
    {
     "data": {
      "text/plain": [
       "True"
      ]
     },
     "execution_count": 12,
     "metadata": {},
     "output_type": "execute_result"
    }
   ],
   "source": [
    "nx.is_directed_acyclic_graph(graph)"
   ]
  },
  {
   "cell_type": "code",
   "execution_count": 13,
   "metadata": {},
   "outputs": [
    {
     "name": "stdout",
     "output_type": "stream",
     "text": [
      "Density 0.0018298182228623089\n"
     ]
    }
   ],
   "source": [
    "print(\"Density {}\".format(nx.density(graph)))"
   ]
  },
  {
   "cell_type": "code",
   "execution_count": 14,
   "metadata": {},
   "outputs": [
    {
     "name": "stdout",
     "output_type": "stream",
     "text": [
      "Mean degree: \t4.9661266568483065\n",
      "Standard deviation: 7.5548286418176005\n",
      "Median: 2.0\n",
      "iqr: 5.0\n",
      "Min: 0\n",
      "Max: 39\n"
     ]
    }
   ],
   "source": [
    "degrees = list(dict(graph.degree(weight=\"weight\")).values())\n",
    "\n",
    "print('Mean degree: \\t'+ str(np.mean(degrees)))\n",
    "print('Standard deviation: ' + str(np.std(degrees)))\n",
    "print('Median: ' + str(np.median(degrees)))\n",
    "print('iqr: ' + str(np.quantile(degrees, 0.75) - np.quantile(degrees, 0.25)))\n",
    "print('Min: ' + str(np.min(degrees)))\n",
    "print('Max: ' + str(np.max(degrees)))"
   ]
  },
  {
   "cell_type": "code",
   "execution_count": 15,
   "metadata": {},
   "outputs": [],
   "source": [
    "random_graph_erdos = nx.fast_gnp_random_graph(len(graph.nodes), nx.density(graph))\n",
    "random_degrees = list(dict(random_graph_erdos.degree()).values())"
   ]
  },
  {
   "cell_type": "code",
   "execution_count": 16,
   "metadata": {},
   "outputs": [
    {
     "data": {
      "image/png": "[encoded data removed]",
      "text/plain": [
       "<Figure size 720x360 with 1 Axes>"
      ]
     },
     "metadata": {
      "needs_background": "light"
     },
     "output_type": "display_data"
    }
   ],
   "source": [
    "cdf = ECDF(degrees)\n",
    "x = np.unique(degrees)\n",
    "y = cdf(x)\n",
    "\n",
    "cdf_random = ECDF(random_degrees)\n",
    "x_random = np.unique(random_degrees)\n",
    "y_random = cdf_random(x_random)\n",
    " \n",
    "fig_cdf_fb = plt.figure(figsize=(10,5))\n",
    "axes = fig_cdf_fb.gca()\n",
    "axes.set_xscale('log')\n",
    "axes.set_yscale('log')\n",
    "axes.loglog(x,1-y,marker='o',ms=8, linestyle='-', label = \"Events\", color = \"#61CAE2\")\n",
    "axes.loglog(x_random,1-y_random,marker='D',ms=10, linestyle='-', label=\"Random\", color = \"#EA63BD\")\n",
    "axes.legend()\n",
    "axes.set_xlabel('Degree',size=20)\n",
    "axes.set_ylabel('ECCDF', size = 20)\n",
    "plt.show()"
   ]
  },
  {
   "cell_type": "code",
   "execution_count": 17,
   "metadata": {},
   "outputs": [
    {
     "data": {
      "text/plain": [
       "(False, False)"
      ]
     },
     "execution_count": 17,
     "metadata": {},
     "output_type": "execute_result"
    }
   ],
   "source": [
    "nx.is_strongly_connected(graph),nx.is_weakly_connected(graph)"
   ]
  },
  {
   "cell_type": "code",
   "execution_count": 18,
   "metadata": {},
   "outputs": [],
   "source": [
    "components_strong =  nx.strongly_connected_components(graph)\n",
    "components_weak =  nx.weakly_connected_components(graph)\n",
    "\n",
    "component_list_strong = list(components_strong)\n",
    "component_list_weak = list(components_weak)"
   ]
  },
  {
   "cell_type": "code",
   "execution_count": 19,
   "metadata": {},
   "outputs": [
    {
     "data": {
      "text/plain": [
       "1358"
      ]
     },
     "execution_count": 19,
     "metadata": {},
     "output_type": "execute_result"
    }
   ],
   "source": [
    "len(component_list_strong)"
   ]
  },
  {
   "cell_type": "code",
   "execution_count": 20,
   "metadata": {},
   "outputs": [
    {
     "data": {
      "text/plain": [
       "555"
      ]
     },
     "execution_count": 20,
     "metadata": {},
     "output_type": "execute_result"
    }
   ],
   "source": [
    "len(component_list_weak)"
   ]
  },
  {
   "cell_type": "code",
   "execution_count": 21,
   "metadata": {},
   "outputs": [
    {
     "data": {
      "image/png": "[encoded data removed]",
      "text/plain": [
       "<Figure size 576x288 with 1 Axes>"
      ]
     },
     "metadata": {
      "needs_background": "light"
     },
     "output_type": "display_data"
    }
   ],
   "source": [
    "len_cc = [len(wcc) for wcc in component_list_weak]\n",
    "counts = pd.Series(len_cc).value_counts().sort_index()\n",
    "\n",
    "fig_gc = plt.figure(figsize=(8,4))\n",
    "axes = fig_gc.gca()\n",
    "axes.set_xscale('log')\n",
    "axes.set_yscale('log')\n",
    "axes.loglog(counts.index,counts.values,marker='o',ms=8, linestyle='None', color = \"#EA63BD\")\n",
    "axes.set_xlabel('Weakly connected component size',size=20)\n",
    "axes.set_ylabel('Count', size = 20)\n",
    "plt.show()"
   ]
  },
  {
   "cell_type": "code",
   "execution_count": 22,
   "metadata": {},
   "outputs": [
    {
     "name": "stdout",
     "output_type": "stream",
     "text": [
      "0.6884233655327194\n"
     ]
    }
   ],
   "source": [
    "print(f\"{np.mean(degrees)/np.log(graph.order())}\")"
   ]
  },
  {
   "cell_type": "markdown",
   "metadata": {},
   "source": [
    "# Community Detection"
   ]
  },
  {
   "cell_type": "code",
   "execution_count": 23,
   "metadata": {},
   "outputs": [],
   "source": [
    "import networkx.algorithms.community as nx_comm\n",
    "from collections import defaultdict\n",
    "from networkx.algorithms.community import k_clique_communities"
   ]
  },
  {
   "cell_type": "code",
   "execution_count": 24,
   "metadata": {},
   "outputs": [],
   "source": [
    "partion = community_louvain.best_partition(graph.to_undirected())"
   ]
  },
  {
   "cell_type": "code",
   "execution_count": 25,
   "metadata": {},
   "outputs": [],
   "source": [
    "community = list(partion.items())\n",
    "comm_df = pd.DataFrame(community, columns = [\"node\", \"community\"])"
   ]
  },
  {
   "cell_type": "code",
   "execution_count": 26,
   "metadata": {},
   "outputs": [
    {
     "data": {
      "image/png": "[encoded data removed]",
      "text/plain": [
       "<Figure size 1440x288 with 1 Axes>"
      ]
     },
     "metadata": {
      "needs_background": "light"
     },
     "output_type": "display_data"
    }
   ],
   "source": [
    "fig_gc = plt.figure(figsize=(20,4))\n",
    "ax = sns.countplot(x=\"community\", data=comm_df)"
   ]
  },
  {
   "cell_type": "code",
   "execution_count": 27,
   "metadata": {},
   "outputs": [],
   "source": [
    "res = defaultdict(set)\n",
    "for key, val in sorted(partion.items()):\n",
    "    res[val].add(key)\n",
    "res = list(res.values())"
   ]
  },
  {
   "cell_type": "code",
   "execution_count": 28,
   "metadata": {},
   "outputs": [
    {
     "data": {
      "text/plain": [
       "0.9297196998799684"
      ]
     },
     "execution_count": 28,
     "metadata": {},
     "output_type": "execute_result"
    }
   ],
   "source": [
    "nx_comm.modularity(graph, res)"
   ]
  },
  {
   "cell_type": "markdown",
   "metadata": {},
   "source": [
    "## Overlapping"
   ]
  },
  {
   "cell_type": "code",
   "execution_count": 29,
   "metadata": {},
   "outputs": [],
   "source": [
    "overlapp_comm = list(k_clique_communities(graph.to_undirected(), 3))"
   ]
  },
  {
   "cell_type": "code",
   "execution_count": 30,
   "metadata": {},
   "outputs": [
    {
     "data": {
      "text/plain": [
       "141"
      ]
     },
     "execution_count": 30,
     "metadata": {},
     "output_type": "execute_result"
    }
   ],
   "source": [
    "len(overlapp_comm)"
   ]
  },
  {
   "cell_type": "code",
   "execution_count": 31,
   "metadata": {},
   "outputs": [],
   "source": [
    "overlapp_comm = [set(community) for community in overlapp_comm]"
   ]
  },
  {
   "cell_type": "code",
   "execution_count": 32,
   "metadata": {},
   "outputs": [],
   "source": [
    "o_comm = []\n",
    "for i, item in enumerate(overlapp_comm):\n",
    "    [o_comm.append((node, i)) for node in list(item)]\n",
    "o_comm_df = pd.DataFrame(o_comm, columns = [\"node\", \"community\"])"
   ]
  },
  {
   "cell_type": "code",
   "execution_count": 33,
   "metadata": {},
   "outputs": [
    {
     "data": {
      "image/png": "[encoded data removed]",
      "text/plain": [
       "<Figure size 1152x288 with 1 Axes>"
      ]
     },
     "metadata": {
      "needs_background": "light"
     },
     "output_type": "display_data"
    }
   ],
   "source": [
    "fig_gc = plt.figure(figsize=(16,4))\n",
    "ax = sns.countplot(x=\"community\", data=o_comm_df)"
   ]
  },
  {
   "cell_type": "code",
   "execution_count": 40,
   "metadata": {},
   "outputs": [],
   "source": [
    "overlapp_comm = sorted(overlapp_comm, key = lambda x: len(x), reverse=True)\n",
    "with open(\"overlapping_communities.txt\", \"w\") as output:\n",
    "    output.write(str(overlapp_comm))"
   ]
  },
  {
   "cell_type": "code",
   "execution_count": 45,
   "metadata": {},
   "outputs": [],
   "source": [
    "res = sorted(res, key = lambda x: len(x), reverse=True)\n",
    "with open(\"communities.txt\", \"w\") as output:\n",
    "    output.write(str(res))"
   ]
  }
 ],
 "metadata": {
  "kernelspec": {
   "display_name": "Python 3",
   "language": "python",
   "name": "python3"
  },
  "language_info": {
   "codemirror_mode": {
    "name": "ipython",
    "version": 3
   },
   "file_extension": ".py",
   "mimetype": "text/x-python",
   "name": "python",
   "nbconvert_exporter": "python",
   "pygments_lexer": "ipython3",
   "version": "3.7.4"
  }
 },
 "nbformat": 4,
 "nbformat_minor": 4
}
